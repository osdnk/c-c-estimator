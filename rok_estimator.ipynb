{
 "cells": [
  {
   "cell_type": "markdown",
   "id": "787f3b11-db92-4305-9201-cecd614351cb",
   "metadata": {},
   "source": [
    "This is a demo of how to use Version 2 of the rok-paper-sissors estimator."
   ]
  },
  {
   "cell_type": "code",
   "execution_count": 1,
   "id": "504fc3a5-5dcd-4a96-ba78-aa0dd3f5c541",
   "metadata": {},
   "outputs": [
    {
     "ename": "IndentationError",
     "evalue": "expected an indented block after class definition on line 272 (rok_estimator.py, line 323)",
     "output_type": "error",
     "traceback": [
      "Traceback \u001b[36m(most recent call last)\u001b[39m:\n",
      "  File \u001b[92m/usr/lib/python3.13/site-packages/IPython/core/interactiveshell.py:3549\u001b[39m in \u001b[95mrun_code\u001b[39m\n    exec(code_obj, self.user_global_ns, self.user_ns)\n",
      "\u001b[36m  \u001b[39m\u001b[36mCell\u001b[39m\u001b[36m \u001b[39m\u001b[32mIn[1]\u001b[39m\u001b[32m, line 1\u001b[39m\n\u001b[31m    \u001b[39m\u001b[31mfrom rok_estimator import *\u001b[39m\n",
      "  \u001b[36mFile \u001b[39m\u001b[32m~/Nextcloud/Academic/Papers/rok-paper-sissors-estimator/rok_estimator.py:323\u001b[39m\n\u001b[31m    \u001b[39m\u001b[31m#         return rel      # TODO: return communication and soundness costs\u001b[39m\n                                                                              ^\n\u001b[31mIndentationError\u001b[39m\u001b[31m:\u001b[39m expected an indented block after class definition on line 272\n"
     ]
    }
   ],
   "source": [
    "from rok_estimator import *"
   ]
  },
  {
   "cell_type": "code",
   "execution_count": null,
   "id": "cb01cc12-d2ab-44b5-b85b-aff942b1d12e",
   "metadata": {},
   "outputs": [],
   "source": []
  }
 ],
 "metadata": {
  "kernelspec": {
   "display_name": "SageMath 10.5",
   "language": "sage",
   "name": "sagemath"
  },
  "language_info": {
   "codemirror_mode": {
    "name": "ipython",
    "version": 3
   },
   "file_extension": ".py",
   "mimetype": "text/x-python",
   "name": "python",
   "nbconvert_exporter": "python",
   "pygments_lexer": "ipython3",
   "version": "3.13.2"
  }
 },
 "nbformat": 4,
 "nbformat_minor": 5
}
