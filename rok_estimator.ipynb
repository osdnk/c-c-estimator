{
 "cells": [
  {
   "cell_type": "markdown",
   "id": "db3a6948-4b69-4b80-88a1-907f1f7a0bd9",
   "metadata": {},
   "source": [
    "This is a demo of how to use Version 2 of the rok-paper-sissors estimator."
   ]
  },
  {
   "cell_type": "code",
   "execution_count": 1,
   "id": "22686925-4eef-4660-83ff-9c6fb1e8e9cf",
   "metadata": {},
   "outputs": [],
   "source": [
    "from rok_estimator import *\n",
    "from lattice_lib import *\n",
    "from lattice_lib.util import *"
   ]
  },
  {
   "cell_type": "code",
   "execution_count": 2,
   "id": "732f488a-c774-43ba-bf4f-730225724714",
   "metadata": {},
   "outputs": [
    {
     "name": "stdout",
     "output_type": "stream",
     "text": [
      "Relation:\n",
      "    H * F * W = Y\n",
      "Statement:\n",
      "    H: nout x (ntop + nbot)\n",
      "    F: (ntop + nbot) x wdim\n",
      "    Y: nout x rep\n",
      "Witness:\n",
      "    W: wdim x rep\n",
      "    ||sigma(W)||_2 <= 2^log_beta_wit_2\n",
      "    ||psi(W)||_inf <= 2^log_beta_wit_inf\n",
      "Parameters:\n",
      "    wdim = 60, rep = 1, log_beta_wit_2 = 0, log_beta_wit_inf = 0\n"
     ]
    },
    {
     "name": "stderr",
     "output_type": "stream",
     "text": [
      "/home/russell/Nextcloud/Academic/Papers/rok-paper-sissors-estimator/rok_estimator.py:107: UserWarning: Specified module rank for SIS is too small for the target security level.\n",
      "  warnings.warn(\"Specified module rank for SIS is too small for the target security level.\")\n"
     ]
    }
   ],
   "source": [
    "# Specify parameters related to the underlying ring\n",
    "ring_params_60_32 = RingParam(f=60,nsis=2)\n",
    "\n",
    "# Create a new starting relation\n",
    "rel = Relation(ring_params=ring_params_60_32,wdim=60)\n",
    "rel.show()"
   ]
  },
  {
   "cell_type": "code",
   "execution_count": 3,
   "id": "3f4fb41f-bc6f-4533-927b-dd24190a1849",
   "metadata": {},
   "outputs": [
    {
     "name": "stdout",
     "output_type": "stream",
     "text": [
      "Relation:\n",
      "    H * F * W = Y\n",
      "Statement:\n",
      "    H: nout x (ntop + nbot)\n",
      "    F: (ntop + nbot) x wdim\n",
      "    Y: nout x rep\n",
      "Witness:\n",
      "    W: wdim x rep\n",
      "    ||sigma(W)||_2 <= 2^log_beta_wit_2\n",
      "    ||psi(W)||_inf <= 2^log_beta_wit_inf\n",
      "Parameters:\n",
      "    wdim = 60, rep = 2, log_beta_wit_2 = 8, log_beta_wit_inf = 0\n",
      "hello\n",
      "communication: 1024\n",
      "soundness error: 2^-inf\n"
     ]
    }
   ],
   "source": [
    "# Running pi_bdecomp reducing rel to rel_bdecomp\n",
    "rel_bdecomp, cost_bdecomp = rel.pi_bdecomp(ell=2)\n",
    "rel_bdecomp.show()\n",
    "cost_bdecomp.show()"
   ]
  },
  {
   "cell_type": "code",
   "execution_count": null,
   "id": "233b33cb-9659-478b-8452-3f5e8966ac73",
   "metadata": {},
   "outputs": [
    {
     "name": "stdout",
     "output_type": "stream",
     "text": [
      "Relation:\n",
      "    H * F * W = Y\n",
      "Statement:\n",
      "    H: nout x (ntop + nbot)\n",
      "    F: (ntop + nbot) x wdim\n",
      "    Y: nout x rep\n",
      "Witness:\n",
      "    W: wdim x rep\n",
      "    ||sigma(W)||_2 <= 2^log_beta_wit_2\n",
      "    ||psi(W)||_inf <= 2^log_beta_wit_inf\n",
      "Parameters:\n",
      "    wdim = 30, rep = 2, log_beta_wit_2 = 0, log_beta_wit_inf = 0\n"
     ]
    }
   ],
   "source": [
    "# Running pi_split reducing rel into rel_split\n",
    "rel_split, cost_split = rel.pi_split(2)\n",
    "rel_split.show()"
   ]
  },
  {
   "cell_type": "code",
   "execution_count": null,
   "id": "71f8fe61-2322-4252-b22c-faa54f365e1a",
   "metadata": {},
   "outputs": [
    {
     "data": {
      "text/plain": [
       "RingParam(f=60, fhat=30, phi=16, log_betasis=32, log_q=64, residue_deg=2, ring_exp_inf=16, nsis=2, secpar=128)"
      ]
     },
     "execution_count": 5,
     "metadata": {},
     "output_type": "execute_result"
    }
   ],
   "source": [
    "ring_params_60_32"
   ]
  },
  {
   "cell_type": "code",
   "execution_count": null,
   "id": "970ef359-d9c3-424d-8736-c2c3c03ce22e",
   "metadata": {},
   "outputs": [
    {
     "data": {
      "text/plain": [
       "RingParam(f=60, fhat=30, phi=16, log_betasis=32, log_q=64, residue_deg=2, ring_exp_inf=16, nsis=2, secpar=128)"
      ]
     },
     "execution_count": 6,
     "metadata": {},
     "output_type": "execute_result"
    }
   ],
   "source": [
    "rel.ring_params"
   ]
  },
  {
   "cell_type": "code",
   "execution_count": null,
   "id": "a76e69f0-b7de-4510-8966-ee60e2c7f86c",
   "metadata": {},
   "outputs": [
    {
     "name": "stdout",
     "output_type": "stream",
     "text": [
      "Relation:\n",
      "    H * F * W = Y\n",
      "Statement:\n",
      "    H: nout x (ntop + nbot)\n",
      "    F: (ntop + nbot) x wdim\n",
      "    Y: nout x rep\n",
      "Witness:\n",
      "    W: wdim x rep\n",
      "    ||sigma(W)||_2 <= 2^log_beta_wit_2\n",
      "    ||psi(W)||_inf <= 2^log_beta_wit_inf\n",
      "Parameters:\n",
      "    wdim = 60, rep = 1, log_beta_wit_2 = 0, log_beta_wit_inf = 0\n"
     ]
    }
   ],
   "source": [
    "rel.show()"
   ]
  },
  {
   "cell_type": "code",
   "execution_count": null,
   "id": "5ce252ac-081d-4200-b9d7-0c215066c894",
   "metadata": {},
   "outputs": [
    {
     "ename": "AttributeError",
     "evalue": "'RingParam' object has no attribute 'e'",
     "output_type": "error",
     "traceback": [
      "\u001b[31m---------------------------------------------------------------------------\u001b[39m",
      "\u001b[31mAttributeError\u001b[39m                            Traceback (most recent call last)",
      "\u001b[36mCell\u001b[39m\u001b[36m \u001b[39m\u001b[32mIn[8]\u001b[39m\u001b[32m, line 1\u001b[39m\n\u001b[32m----> \u001b[39m\u001b[32m1\u001b[39m rel_norm, cost_norm = \u001b[43mrel\u001b[49m\u001b[43m.\u001b[49m\u001b[43mpi_norm\u001b[49m\u001b[43m(\u001b[49m\u001b[43m)\u001b[49m\n\u001b[32m      2\u001b[39m rel_norm.show()\n",
      "\u001b[36mFile \u001b[39m\u001b[32m~/Nextcloud/Academic/Papers/rok-paper-sissors-estimator/rok_estimator.py:273\u001b[39m, in \u001b[36mRelation.pi_norm\u001b[39m\u001b[34m(self)\u001b[39m\n\u001b[32m    270\u001b[39m rel.log_beta_wit_2 = log(sqrt( \u001b[32m2\u001b[39m**(\u001b[38;5;28mself\u001b[39m.log_beta_wit_2*\u001b[32m2\u001b[39m) +  ell * \u001b[38;5;28mself\u001b[39m.wdim * \u001b[38;5;28mself\u001b[39m.ring_params.fhat * \u001b[32m2\u001b[39m**(\u001b[38;5;28mself\u001b[39m.log_beta_wit_inf*\u001b[32m2\u001b[39m) ),\u001b[32m2\u001b[39m) \n\u001b[32m    272\u001b[39m comm = \u001b[38;5;28mself\u001b[39m.ring_params.size_Rq() * (ell * (\u001b[38;5;28mself\u001b[39m.ring_params.nsis + \u001b[38;5;28mself\u001b[39m.nbot) + \u001b[32m3\u001b[39m * \u001b[38;5;28mself\u001b[39m.rep + \u001b[32m3\u001b[39m * ell) \n\u001b[32m--> \u001b[39m\u001b[32m273\u001b[39m snd = \u001b[32m2\u001b[39m * \u001b[38;5;28mself\u001b[39m.wdim / (\u001b[32m2\u001b[39m**(\u001b[38;5;28mself\u001b[39m.ring_params.log_q * \u001b[38;5;28;43mself\u001b[39;49m\u001b[43m.\u001b[49m\u001b[43mring_params\u001b[49m\u001b[43m.\u001b[49m\u001b[43me\u001b[49m))\n\u001b[32m    274\u001b[39m log_beta_ext_2 = \u001b[38;5;28mself\u001b[39m.log_beta_wit_2\n\u001b[32m    275\u001b[39m log_beta_ext_inf = log(sqrt(\u001b[38;5;28mself\u001b[39m.ring_params.fhat * \u001b[38;5;28mself\u001b[39m.ring_params.phi * \u001b[38;5;28mself\u001b[39m.wdim * \u001b[38;5;28mself\u001b[39m.rep),\u001b[32m2\u001b[39m) + \u001b[38;5;28mself\u001b[39m.log_beta_wit_2\n",
      "\u001b[31mAttributeError\u001b[39m: 'RingParam' object has no attribute 'e'"
     ]
    }
   ],
   "source": [
    "rel_norm, cost_norm = rel.pi_norm()\n",
    "rel_norm.show()"
   ]
  },
  {
   "cell_type": "code",
   "execution_count": null,
   "id": "9fc0b51d-ff7a-4279-9b73-9fe56babc49f",
   "metadata": {},
   "outputs": [],
   "source": [
    "rel = Relation(ring_params=RingParam(f=60,nsis=2),wdim=60)\n",
    "rel_bdecomp, cost_bdecomp = rel.pi_bdecomp(ell=2)\n",
    "rel_bdecomp.show()"
   ]
  }
 ],
 "metadata": {
  "kernelspec": {
   "display_name": "SageMath 10.5",
   "language": "sage",
   "name": "sagemath"
  },
  "language_info": {
   "codemirror_mode": {
    "name": "ipython",
    "version": 3
   },
   "file_extension": ".py",
   "mimetype": "text/x-python",
   "name": "python",
   "nbconvert_exporter": "python",
   "pygments_lexer": "ipython3",
   "version": "3.13.2"
  }
 },
 "nbformat": 4,
 "nbformat_minor": 5
}
