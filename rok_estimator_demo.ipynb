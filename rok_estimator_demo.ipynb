{
 "cells": [
  {
   "cell_type": "markdown",
   "id": "db3a6948-4b69-4b80-88a1-907f1f7a0bd9",
   "metadata": {},
   "source": [
    "This is a demo of how to use 'rok_estimator.py'."
   ]
  },
  {
   "cell_type": "code",
   "execution_count": 1,
   "id": "22686925-4eef-4660-83ff-9c6fb1e8e9cf",
   "metadata": {},
   "outputs": [],
   "source": [
    "from rok_estimator import *\n",
    "from lattice_lib import *\n",
    "from lattice_lib.util import *"
   ]
  },
  {
   "cell_type": "code",
   "execution_count": 2,
   "id": "732f488a-c774-43ba-bf4f-730225724714",
   "metadata": {},
   "outputs": [
    {
     "name": "stdout",
     "output_type": "stream",
     "text": [
      "Relation:\n",
      "    H * F * W = Y\n",
      "Statement:\n",
      "    H: nout x (ntop + nbot)\n",
      "    F: (ntop + nbot) x wdim\n",
      "    Y: nout x rep\n",
      "Witness:\n",
      "    W: wdim x rep\n",
      "    ||sigma(W)||_2 <= 2^log_beta_wit_2\n",
      "    ||psi(W)||_inf <= 2^log_beta_wit_inf\n",
      "Parameters:\n",
      "    wdim = 60, rep = 1, log_2-norm (real | extr) = (8  | 0 ), log_inf-norm (real | extr) = (0 | 0), wit size = 0.1 KB\n",
      " \n"
     ]
    }
   ],
   "source": [
    "# Specify parameters related to the underlying ring\n",
    "ring_60_32 = RingParam(f=60)\n",
    "\n",
    "# Create a new starting relation\n",
    "rel = Relation(ring=ring_60_32,wdim=60,log_beta_wit_inf=0)\n",
    "rel.show()"
   ]
  },
  {
   "cell_type": "code",
   "execution_count": 3,
   "id": "3f4fb41f-bc6f-4533-927b-dd24190a1849",
   "metadata": {},
   "outputs": [
    {
     "name": "stdout",
     "output_type": "stream",
     "text": [
      "Relation:\n",
      "    H * F * W = Y\n",
      "Statement:\n",
      "    H: nout x (ntop + nbot)\n",
      "    F: (ntop + nbot) x wdim\n",
      "    Y: nout x rep\n",
      "Witness:\n",
      "    W: wdim x rep\n",
      "    ||sigma(W)||_2 <= 2^log_beta_wit_2\n",
      "    ||psi(W)||_inf <= 2^log_beta_wit_inf\n",
      "Parameters:\n",
      "    wdim = 60, rep = 2, log_2-norm (real | extr) = (8  | 0 ), log_inf-norm (real | extr) = (0 | 0), wit size = 0.2 KB\n",
      " \n",
      "Cost: communication =   0.10 KB, soundness error = 2^-Infinity\n",
      " \n"
     ]
    }
   ],
   "source": [
    "# Running pi_bdecomp reducing rel to rel_bdecomp\n",
    "rel_bdecomp, cost_bdecomp = rel.pi_bdecomp(ell=2)\n",
    "rel_bdecomp.show()\n",
    "cost_bdecomp.show()"
   ]
  },
  {
   "cell_type": "code",
   "execution_count": 4,
   "id": "233b33cb-9659-478b-8452-3f5e8966ac73",
   "metadata": {},
   "outputs": [
    {
     "name": "stdout",
     "output_type": "stream",
     "text": [
      "Relation:\n",
      "    H * F * W = Y\n",
      "Statement:\n",
      "    H: nout x (ntop + nbot)\n",
      "    F: (ntop + nbot) x wdim\n",
      "    Y: nout x rep\n",
      "Witness:\n",
      "    W: wdim x rep\n",
      "    ||sigma(W)||_2 <= 2^log_beta_wit_2\n",
      "    ||psi(W)||_inf <= 2^log_beta_wit_inf\n",
      "Parameters:\n",
      "    wdim = 30, rep = 2, log_2-norm (real | extr) = (8  | 0 ), log_inf-norm (real | extr) = (0 | 0), wit size = 0.1 KB\n",
      " \n",
      "Cost: communication =   0.10 KB, soundness error = 2^-128\n",
      " \n"
     ]
    }
   ],
   "source": [
    "# Running pi_split reducing rel into rel_split\n",
    "rel_split, cost_split = rel.pi_split(2)\n",
    "rel_split.show()\n",
    "cost_split.show()"
   ]
  },
  {
   "cell_type": "code",
   "execution_count": 5,
   "id": "fe8542b8",
   "metadata": {},
   "outputs": [
    {
     "name": "stdout",
     "output_type": "stream",
     "text": [
      "Relation:\n",
      "    H * F * W = Y\n",
      "Statement:\n",
      "    H: nout x (ntop + nbot)\n",
      "    F: (ntop + nbot) x wdim\n",
      "    Y: nout x rep\n",
      "Witness:\n",
      "    W: wdim x rep\n",
      "    ||sigma(W)||_2 <= 2^log_beta_wit_2\n",
      "    ||psi(W)||_inf <= 2^log_beta_wit_inf\n",
      "Parameters:\n",
      "    wdim = 60, rep = 1, log_2-norm (real | extr) = (8  | 0 ), log_inf-norm (real | extr) = (0 | 0), wit size = 0.1 KB\n",
      " \n",
      "Cost: communication =   0.00 KB, soundness error = 2^-128\n",
      " \n"
     ]
    }
   ],
   "source": [
    "# Running pi_batch reducing rel into rel_batch\n",
    "rel_batch, cost_batch = rel.pi_batch()\n",
    "rel_batch.show()\n",
    "cost_batch.show()"
   ]
  },
  {
   "cell_type": "code",
   "execution_count": 6,
   "id": "caffa153",
   "metadata": {},
   "outputs": [
    {
     "name": "stdout",
     "output_type": "stream",
     "text": [
      "Relation:\n",
      "    H * F * W = Y\n",
      "Statement:\n",
      "    H: nout x (ntop + nbot)\n",
      "    F: (ntop + nbot) x wdim\n",
      "    Y: nout x rep\n",
      "Witness:\n",
      "    W: wdim x rep\n",
      "    ||sigma(W)||_2 <= 2^log_beta_wit_2\n",
      "    ||psi(W)||_inf <= 2^log_beta_wit_inf\n",
      "Parameters:\n",
      "    wdim = 60, rep = 23, log_2-norm (real | extr) = (11  | 0 ), log_inf-norm (real | extr) = (8 | 0), wit size = 24.3 KB\n",
      " \n",
      "Cost: communication =   0.00 KB, soundness error = 2^-83\n",
      " \n"
     ]
    }
   ],
   "source": [
    "# Running pi_fold reducing rel into rel_fold\n",
    "rel_fold, cost_fold = rel.pi_fold(23)\n",
    "rel_fold.show()\n",
    "cost_fold.show()"
   ]
  },
  {
   "cell_type": "code",
   "execution_count": 7,
   "id": "5ce252ac-081d-4200-b9d7-0c215066c894",
   "metadata": {},
   "outputs": [
    {
     "name": "stdout",
     "output_type": "stream",
     "text": [
      "Relation:\n",
      "    H * F * W = Y\n",
      "Statement:\n",
      "    H: nout x (ntop + nbot)\n",
      "    F: (ntop + nbot) x wdim\n",
      "    Y: nout x rep\n",
      "Witness:\n",
      "    W: wdim x rep\n",
      "    ||sigma(W)||_2 <= 2^log_beta_wit_2\n",
      "    ||psi(W)||_inf <= 2^log_beta_wit_inf\n",
      "Parameters:\n",
      "    wdim = 60, rep = 8, log_2-norm (real | extr) = (9  | 0 ), log_inf-norm (real | extr) = (0 | 0), wit size = 0.9 KB\n",
      " \n",
      "Cost: communication =  38.90 KB, soundness error = 2^-122\n",
      " \n"
     ]
    }
   ],
   "source": [
    "# Running pi_norm reducing rel into rel_norm\n",
    "rel_norm, cost_norm = rel.pi_norm()\n",
    "rel_norm.show()\n",
    "cost_norm.show()\n"
   ]
  },
  {
   "cell_type": "code",
   "execution_count": 8,
   "id": "b2b85e81",
   "metadata": {},
   "outputs": [
    {
     "name": "stdout",
     "output_type": "stream",
     "text": [
      "Ring parameters:\n",
      "conductor f: 60, degree phi: 16, modulus q: 2^64, beta_sis: 2^51\n",
      " \n",
      "Execution Trace:\n",
      "init    : wdim = 2097152, rep =  32, log_2-norm (real | extr) = ( 15  |  15 ), log_inf-norm (real | extr) = (  0 |  15), wit size = 131072.0 KB\n",
      "norm    : wdim = 2097152, rep =  48, log_2-norm (real | extr) = ( 16  |  41 ), log_inf-norm (real | extr) = (  0 |  41), wit size = 196608.0 KB\n",
      "batch   : wdim = 2097152, rep =  48, log_2-norm (real | extr) = ( 16  |  41 ), log_inf-norm (real | extr) = (  0 |  41), wit size = 196608.0 KB\n",
      "split   : wdim = 524288, rep = 192, log_2-norm (real | extr) = ( 16  |  41 ), log_inf-norm (real | extr) = (  0 |  41), wit size = 196608.0 KB\n",
      "fold    : wdim = 524288, rep =  32, log_2-norm (real | extr) = ( 26  |  33 ), log_inf-norm (real | extr) = ( 16 |  33), wit size = 557056.0 KB\n",
      "bdecomp : wdim = 524288, rep =  64, log_2-norm (real | extr) = ( 25  |  25 ), log_inf-norm (real | extr) = (  8 |  25), wit size = 589824.0 KB\n",
      "norm    : wdim = 524288, rep =  69, log_2-norm (real | extr) = ( 25  |  48 ), log_inf-norm (real | extr) = (  8 |  48), wit size = 635904.0 KB\n",
      "batch   : wdim = 524288, rep =  69, log_2-norm (real | extr) = ( 25  |  48 ), log_inf-norm (real | extr) = (  8 |  48), wit size = 635904.0 KB\n",
      "split   : wdim = 131072, rep = 276, log_2-norm (real | extr) = ( 25  |  48 ), log_inf-norm (real | extr) = (  8 |  48), wit size = 635904.0 KB\n",
      "fold    : wdim = 131072, rep =  32, log_2-norm (real | extr) = ( 35  |  39 ), log_inf-norm (real | extr) = ( 23 |  39), wit size = 196608.0 KB\n",
      "bdecomp : wdim = 131072, rep =  64, log_2-norm (real | extr) = ( 27  |  27 ), log_inf-norm (real | extr) = ( 11 |  27), wit size = 196608.0 KB\n",
      "norm    : wdim = 131072, rep =  68, log_2-norm (real | extr) = ( 27  |  50 ), log_inf-norm (real | extr) = ( 11 |  50), wit size = 208896.0 KB\n",
      "batch   : wdim = 131072, rep =  68, log_2-norm (real | extr) = ( 27  |  50 ), log_inf-norm (real | extr) = ( 11 |  50), wit size = 208896.0 KB\n",
      "split   : wdim =  32768, rep = 272, log_2-norm (real | extr) = ( 27  |  50 ), log_inf-norm (real | extr) = ( 11 |  50), wit size = 208896.0 KB\n",
      "fold    : wdim =  32768, rep =  32, log_2-norm (real | extr) = ( 38  |  42 ), log_inf-norm (real | extr) = ( 27 |  42), wit size = 57344.0 KB\n",
      "bdecomp : wdim =  32768, rep =  64, log_2-norm (real | extr) = ( 28  |  28 ), log_inf-norm (real | extr) = ( 13 |  28), wit size = 57344.0 KB\n",
      "norm    : wdim =  32768, rep =  68, log_2-norm (real | extr) = ( 28  |  51 ), log_inf-norm (real | extr) = ( 13 |  51), wit size = 60928.0 KB\n",
      "batch   : wdim =  32768, rep =  68, log_2-norm (real | extr) = ( 28  |  51 ), log_inf-norm (real | extr) = ( 13 |  51), wit size = 60928.0 KB\n",
      "split   : wdim =   8192, rep = 272, log_2-norm (real | extr) = ( 28  |  51 ), log_inf-norm (real | extr) = ( 13 |  51), wit size = 60928.0 KB\n",
      "fold    : wdim =   8192, rep =  32, log_2-norm (real | extr) = ( 39  |  43 ), log_inf-norm (real | extr) = ( 29 |  43), wit size = 15360.0 KB\n",
      "bdecomp : wdim =   8192, rep =  64, log_2-norm (real | extr) = ( 28  |  28 ), log_inf-norm (real | extr) = ( 14 |  28), wit size = 15360.0 KB\n",
      "norm    : wdim =   8192, rep =  68, log_2-norm (real | extr) = ( 28  |  51 ), log_inf-norm (real | extr) = ( 14 |  51), wit size = 16320.0 KB\n",
      "batch   : wdim =   8192, rep =  68, log_2-norm (real | extr) = ( 28  |  51 ), log_inf-norm (real | extr) = ( 14 |  51), wit size = 16320.0 KB\n",
      "split   : wdim =   2048, rep = 272, log_2-norm (real | extr) = ( 28  |  51 ), log_inf-norm (real | extr) = ( 14 |  51), wit size = 16320.0 KB\n",
      "fold    : wdim =   2048, rep =  32, log_2-norm (real | extr) = ( 39  |  43 ), log_inf-norm (real | extr) = ( 30 |  43), wit size = 3968.0 KB\n",
      "bdecomp : wdim =   2048, rep =  64, log_2-norm (real | extr) = ( 28  |  28 ), log_inf-norm (real | extr) = ( 15 |  28), wit size = 4096.0 KB\n",
      "norm    : wdim =   2048, rep =  67, log_2-norm (real | extr) = ( 28  |  51 ), log_inf-norm (real | extr) = ( 15 |  51), wit size = 4288.0 KB\n",
      "batch   : wdim =   2048, rep =  67, log_2-norm (real | extr) = ( 28  |  51 ), log_inf-norm (real | extr) = ( 15 |  51), wit size = 4288.0 KB\n",
      "split   : wdim =    512, rep = 268, log_2-norm (real | extr) = ( 28  |  51 ), log_inf-norm (real | extr) = ( 15 |  51), wit size = 4288.0 KB\n",
      "fold    : wdim =    512, rep =  32, log_2-norm (real | extr) = ( 38  |  42 ), log_inf-norm (real | extr) = ( 30 |  42), wit size = 992.0 KB\n",
      "bdecomp : wdim =    512, rep =  64, log_2-norm (real | extr) = ( 27  |  27 ), log_inf-norm (real | extr) = ( 15 |  27), wit size = 1024.0 KB\n",
      "norm    : wdim =    512, rep =  67, log_2-norm (real | extr) = ( 27  |  46 ), log_inf-norm (real | extr) = ( 15 |  41), wit size = 1072.0 KB\n",
      "batch   : wdim =    512, rep =  67, log_2-norm (real | extr) = ( 27  |  46 ), log_inf-norm (real | extr) = ( 15 |  41), wit size = 1072.0 KB\n",
      "split   : wdim =    128, rep = 268, log_2-norm (real | extr) = ( 27  |  46 ), log_inf-norm (real | extr) = ( 15 |  41), wit size = 1072.0 KB\n",
      "fold    : wdim =    128, rep =  32, log_2-norm (real | extr) = ( 37  |  37 ), log_inf-norm (real | extr) = ( 30 |  30), wit size = 248.0 KB\n",
      "finish  : True\n",
      " \n",
      "Costs:\n",
      "norm    : communication = 218.00 KB, soundness error = 2^-106\n",
      "batch   : communication =   0.00 KB, soundness error = 2^-121\n",
      "split   : communication = 108.00 KB, soundness error = 2^-127\n",
      "fold    : communication =   0.00 KB, soundness error = 2^-108\n",
      "bdecomp : communication =   8.00 KB, soundness error = 2^-Infinity\n",
      "norm    : communication =  90.20 KB, soundness error = 2^-108\n",
      "batch   : communication =   0.00 KB, soundness error = 2^-120\n",
      "split   : communication = 155.20 KB, soundness error = 2^-127\n",
      "fold    : communication =   0.00 KB, soundness error = 2^-107\n",
      "bdecomp : communication =   8.00 KB, soundness error = 2^-Infinity\n",
      "norm    : communication =  78.50 KB, soundness error = 2^-110\n",
      "batch   : communication =   0.00 KB, soundness error = 2^-119\n",
      "split   : communication = 153.00 KB, soundness error = 2^-127\n",
      "fold    : communication =   0.00 KB, soundness error = 2^-107\n",
      "bdecomp : communication =   8.00 KB, soundness error = 2^-Infinity\n",
      "norm    : communication =  80.00 KB, soundness error = 2^-112\n",
      "batch   : communication =   0.00 KB, soundness error = 2^-119\n",
      "split   : communication = 153.00 KB, soundness error = 2^-127\n",
      "fold    : communication =   0.00 KB, soundness error = 2^-107\n",
      "bdecomp : communication =   8.00 KB, soundness error = 2^-Infinity\n",
      "norm    : communication =  81.50 KB, soundness error = 2^-114\n",
      "batch   : communication =   0.00 KB, soundness error = 2^-118\n",
      "split   : communication = 153.00 KB, soundness error = 2^-127\n",
      "fold    : communication =   0.00 KB, soundness error = 2^-107\n",
      "bdecomp : communication =   8.00 KB, soundness error = 2^-Infinity\n",
      "norm    : communication =  68.20 KB, soundness error = 2^-116\n",
      "batch   : communication =   0.00 KB, soundness error = 2^-118\n",
      "split   : communication = 150.80 KB, soundness error = 2^-127\n",
      "fold    : communication =   0.00 KB, soundness error = 2^-107\n",
      "bdecomp : communication =   8.00 KB, soundness error = 2^-Infinity\n",
      "norm    : communication =  69.40 KB, soundness error = 2^-118\n",
      "batch   : communication =   0.00 KB, soundness error = 2^-118\n",
      "split   : communication = 150.80 KB, soundness error = 2^-127\n",
      "fold    : communication =   0.00 KB, soundness error = 2^-107\n",
      "finish  : communication = 512.00 KB, soundness error = 2^-Infinity\n",
      " \n",
      "Total Cost: communication = 2269.60 KB, soundness error = 2^-104\n"
     ]
    }
   ],
   "source": [
    "ring_params = {\n",
    "    \"f\": 60,\n",
    "    \"log_betasis\": 51,\n",
    "    \"log_q\": 64,\n",
    "}\n",
    "\n",
    "rel_params = {\n",
    "    \"wdim\": 2**21,\n",
    "    \"rep\": 2**5,\n",
    "    \"log_beta_wit_inf\": 0,\n",
    "}\n",
    "\n",
    "ops_params = {\n",
    "    \"repout\": rel_params[\"rep\"],\n",
    "    \"ell\": 2,\n",
    "    \"d\": 4,\n",
    "}\n",
    "\n",
    "opener = [(\"norm\", {}), (\"batch\", {}), (\"split\", {\"d\": ops_params[\"d\"]}), (\"fold\", {\"repout\": ops_params[\"repout\"]})]\n",
    "loop = [(\"bdecomp\", {\"ell\": ops_params[\"ell\"]}), (\"norm\", {}), (\"batch\", {}), (\"split\", {\"d\": ops_params[\"d\"]}), (\"fold\", {\"repout\": ops_params[\"repout\"]})]\n",
    "ops = opener + loop + loop + loop + loop + loop + loop + [(\"finish\", {})]\n",
    "\n",
    "sim = Simulation(ring_params, rel_params, ops)\n",
    "sim.show()"
   ]
  }
 ],
 "metadata": {
  "kernelspec": {
   "display_name": "SageMath 10.5",
   "language": "sage",
   "name": "sagemath"
  },
  "language_info": {
   "codemirror_mode": {
    "name": "ipython",
    "version": 3
   },
   "file_extension": ".py",
   "mimetype": "text/x-python",
   "name": "python",
   "nbconvert_exporter": "python",
   "pygments_lexer": "ipython3",
   "version": "3.13.2"
  }
 },
 "nbformat": 4,
 "nbformat_minor": 5
}
