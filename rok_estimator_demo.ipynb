{
 "cells": [
  {
   "cell_type": "markdown",
   "id": "db3a6948-4b69-4b80-88a1-907f1f7a0bd9",
   "metadata": {},
   "source": [
    "This is a demo of how to use 'rok_estimator.py'."
   ]
  },
  {
   "cell_type": "code",
   "execution_count": 2,
   "id": "22686925-4eef-4660-83ff-9c6fb1e8e9cf",
   "metadata": {},
   "outputs": [],
   "source": [
    "from rok_estimator import *\n",
    "from lattice_lib import *\n",
    "from lattice_lib.util import *"
   ]
  },
  {
   "cell_type": "code",
   "execution_count": null,
   "id": "732f488a-c774-43ba-bf4f-730225724714",
   "metadata": {},
   "outputs": [
    {
     "name": "stdout",
     "output_type": "stream",
     "text": [
      "Relation:\n",
      "    H * F * W = Y\n",
      "Statement:\n",
      "    H: nout x (ntop + nbot)\n",
      "    F: (ntop + nbot) x wdim\n",
      "    Y: nout x rep\n",
      "Witness:\n",
      "    W: wdim x rep\n",
      "    ||sigma(W)||_2 <= 2^log_beta_wit_2\n",
      "    ||psi(W)||_inf <= 2^log_beta_wit_inf\n",
      "Parameters:\n",
      "    wdim = 60, rep = 1, log_beta_wit_2 = 0, log_beta_wit_inf = 0\n",
      " \n"
     ]
    },
    {
     "name": "stderr",
     "output_type": "stream",
     "text": [
      "/home/russell/Nextcloud/Academic/Papers/rok-paper-sissors-estimator/rok_estimator.py:107: UserWarning: Specified module rank for SIS is too small for the target security level.\n",
      "  warnings.warn(\"Specified module rank for SIS is too small for the target security level.\")\n"
     ]
    }
   ],
   "source": [
    "# Specify parameters related to the underlying ring\n",
    "ring_params_60_32 = RingParam(f=60,nsis=2)\n",
    "\n",
    "# Create a new starting relation\n",
    "rel = Relation(ring_params=ring_params_60_32,wdim=60)\n",
    "rel.show()"
   ]
  },
  {
   "cell_type": "code",
   "execution_count": 4,
   "id": "3f4fb41f-bc6f-4533-927b-dd24190a1849",
   "metadata": {},
   "outputs": [
    {
     "name": "stdout",
     "output_type": "stream",
     "text": [
      "Relation:\n",
      "    H * F * W = Y\n",
      "Statement:\n",
      "    H: nout x (ntop + nbot)\n",
      "    F: (ntop + nbot) x wdim\n",
      "    Y: nout x rep\n",
      "Witness:\n",
      "    W: wdim x rep\n",
      "    ||sigma(W)||_2 <= 2^log_beta_wit_2\n",
      "    ||psi(W)||_inf <= 2^log_beta_wit_inf\n",
      "Parameters:\n",
      "    wdim = 60, rep = 2, log_beta_wit_2 = 8, log_beta_wit_inf = 0\n",
      " \n",
      "Parameter Changes:\n",
      "Costs:\n",
      "    communication: 1024\n",
      "    soundness error: 2^-inf\n",
      " \n"
     ]
    }
   ],
   "source": [
    "# Running pi_bdecomp reducing rel to rel_bdecomp\n",
    "rel_bdecomp, cost_bdecomp = rel.pi_bdecomp(ell=2)\n",
    "rel_bdecomp.show()\n",
    "cost_bdecomp.show()"
   ]
  },
  {
   "cell_type": "code",
   "execution_count": 5,
   "id": "233b33cb-9659-478b-8452-3f5e8966ac73",
   "metadata": {},
   "outputs": [
    {
     "name": "stdout",
     "output_type": "stream",
     "text": [
      "Relation:\n",
      "    H * F * W = Y\n",
      "Statement:\n",
      "    H: nout x (ntop + nbot)\n",
      "    F: (ntop + nbot) x wdim\n",
      "    Y: nout x rep\n",
      "Witness:\n",
      "    W: wdim x rep\n",
      "    ||sigma(W)||_2 <= 2^log_beta_wit_2\n",
      "    ||psi(W)||_inf <= 2^log_beta_wit_inf\n",
      "Parameters:\n",
      "    wdim = 30, rep = 2, log_beta_wit_2 = 0, log_beta_wit_inf = 0\n",
      " \n",
      "Parameter Changes:\n",
      "Costs:\n",
      "    communication: 1024\n",
      "    soundness error: 2^-128\n",
      " \n"
     ]
    }
   ],
   "source": [
    "# Running pi_split reducing rel into rel_split\n",
    "rel_split, cost_split = rel.pi_split(2)\n",
    "rel_split.show()\n",
    "cost_split.show()"
   ]
  },
  {
   "cell_type": "code",
   "execution_count": 6,
   "id": "fe8542b8",
   "metadata": {},
   "outputs": [
    {
     "name": "stdout",
     "output_type": "stream",
     "text": [
      "Relation:\n",
      "    H * F * W = Y\n",
      "Statement:\n",
      "    H: nout x (ntop + nbot)\n",
      "    F: (ntop + nbot) x wdim\n",
      "    Y: nout x rep\n",
      "Witness:\n",
      "    W: wdim x rep\n",
      "    ||sigma(W)||_2 <= 2^log_beta_wit_2\n",
      "    ||psi(W)||_inf <= 2^log_beta_wit_inf\n",
      "Parameters:\n",
      "    wdim = 60, rep = 1, log_beta_wit_2 = 0, log_beta_wit_inf = 0\n",
      " \n",
      "Parameter Changes:\n",
      "Costs:\n",
      "    communication: 0\n",
      "    soundness error: 2^-128\n",
      " \n"
     ]
    }
   ],
   "source": [
    "# Running pi_batch reducing rel into rel_batch\n",
    "rel_batch, cost_batch = rel.pi_batch()\n",
    "rel_batch.show()\n",
    "cost_batch.show()"
   ]
  },
  {
   "cell_type": "code",
   "execution_count": 11,
   "id": "caffa153",
   "metadata": {},
   "outputs": [
    {
     "name": "stdout",
     "output_type": "stream",
     "text": [
      "Relation:\n",
      "    H * F * W = Y\n",
      "Statement:\n",
      "    H: nout x (ntop + nbot)\n",
      "    F: (ntop + nbot) x wdim\n",
      "    Y: nout x rep\n",
      "Witness:\n",
      "    W: wdim x rep\n",
      "    ||sigma(W)||_2 <= 2^log_beta_wit_2\n",
      "    ||psi(W)||_inf <= 2^log_beta_wit_inf\n",
      "Parameters:\n",
      "    wdim = 60, rep = 23, log_beta_wit_2 = 3, log_beta_wit_inf = 8\n",
      " \n",
      "Parameter Changes:\n",
      "Costs:\n",
      "    communication: 0\n",
      "    soundness error: 2^-83\n",
      " \n"
     ]
    }
   ],
   "source": [
    "# Running pi_fold reducing rel into rel_fold\n",
    "rel_fold, cost_fold = rel.pi_fold(23)\n",
    "rel_fold.show()\n",
    "cost_fold.show()"
   ]
  },
  {
   "cell_type": "code",
   "execution_count": 8,
   "id": "5ce252ac-081d-4200-b9d7-0c215066c894",
   "metadata": {},
   "outputs": [
    {
     "name": "stdout",
     "output_type": "stream",
     "text": [
      "Relation:\n",
      "    H * F * W = Y\n",
      "Statement:\n",
      "    H: nout x (ntop + nbot)\n",
      "    F: (ntop + nbot) x wdim\n",
      "    Y: nout x rep\n",
      "Witness:\n",
      "    W: wdim x rep\n",
      "    ||sigma(W)||_2 <= 2^log_beta_wit_2\n",
      "    ||psi(W)||_inf <= 2^log_beta_wit_inf\n",
      "Parameters:\n",
      "    wdim = 60, rep = 8, log_beta_wit_2 = 7, log_beta_wit_inf = 0\n",
      " \n",
      "Parameter Changes:\n",
      "Costs:\n",
      "    communication: 46080\n",
      "    soundness error: 2^-122\n",
      " \n"
     ]
    }
   ],
   "source": [
    "# Running pi_norm reducing rel into rel_norm\n",
    "rel_norm, cost_norm = rel.pi_norm()\n",
    "rel_norm.show()\n",
    "cost_norm.show()\n"
   ]
  },
  {
   "cell_type": "code",
   "execution_count": null,
   "id": "b2b85e81",
   "metadata": {},
   "outputs": [],
   "source": []
  }
 ],
 "metadata": {
  "kernelspec": {
   "display_name": "SageMath 10.5",
   "language": "sage",
   "name": "sagemath"
  },
  "language_info": {
   "codemirror_mode": {
    "name": "ipython",
    "version": 3
   },
   "file_extension": ".py",
   "mimetype": "text/x-python",
   "name": "python",
   "nbconvert_exporter": "python",
   "pygments_lexer": "ipython3",
   "version": "3.13.2"
  }
 },
 "nbformat": 4,
 "nbformat_minor": 5
}
