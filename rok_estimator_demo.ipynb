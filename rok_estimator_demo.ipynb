{
 "cells": [
  {
   "cell_type": "markdown",
   "id": "db3a6948-4b69-4b80-88a1-907f1f7a0bd9",
   "metadata": {},
   "source": [
    "This is a demo of how to use 'rok_estimator.py'."
   ]
  },
  {
   "cell_type": "code",
   "execution_count": 1,
   "id": "22686925-4eef-4660-83ff-9c6fb1e8e9cf",
   "metadata": {},
   "outputs": [],
   "source": [
    "from rok_estimator import *\n",
    "from lattice_lib import *\n",
    "from lattice_lib.util import *"
   ]
  },
  {
   "cell_type": "code",
   "execution_count": 2,
   "id": "732f488a-c774-43ba-bf4f-730225724714",
   "metadata": {},
   "outputs": [
    {
     "name": "stdout",
     "output_type": "stream",
     "text": [
      "Relation:\n",
      "    H * F * W = Y\n",
      "Statement:\n",
      "    H: nout x (ntop + nbot)\n",
      "    F: (ntop + nbot) x wdim\n",
      "    Y: nout x rep\n",
      "Witness:\n",
      "    W: wdim x rep\n",
      "    ||sigma(W)||_2 <= 2^log_beta_wit_2\n",
      "    ||psi(W)||_inf <= 2^log_beta_wit_inf\n",
      "Parameters:\n",
      "    wdim = 60, rep = 1, log_beta_wit_2 = 0, log_beta_wit_inf = 0\n",
      " \n"
     ]
    },
    {
     "name": "stderr",
     "output_type": "stream",
     "text": [
      "/home/russell/Nextcloud/Academic/Papers/rok-paper-sissors-estimator/rok_estimator.py:113: UserWarning: Specified module rank for SIS is too small for the target security level.\n",
      "  warnings.warn(\"Specified module rank for SIS is too small for the target security level.\")\n"
     ]
    }
   ],
   "source": [
    "# Specify parameters related to the underlying ring\n",
    "ring_params_60_32 = RingParam(f=60,nsis=2)\n",
    "\n",
    "# Create a new starting relation\n",
    "rel = Relation(ring_params=ring_params_60_32,wdim=60)\n",
    "rel.show()"
   ]
  },
  {
   "cell_type": "code",
   "execution_count": 3,
   "id": "3f4fb41f-bc6f-4533-927b-dd24190a1849",
   "metadata": {},
   "outputs": [
    {
     "name": "stdout",
     "output_type": "stream",
     "text": [
      "Relation:\n",
      "    H * F * W = Y\n",
      "Statement:\n",
      "    H: nout x (ntop + nbot)\n",
      "    F: (ntop + nbot) x wdim\n",
      "    Y: nout x rep\n",
      "Witness:\n",
      "    W: wdim x rep\n",
      "    ||sigma(W)||_2 <= 2^log_beta_wit_2\n",
      "    ||psi(W)||_inf <= 2^log_beta_wit_inf\n",
      "Parameters:\n",
      "    wdim = 60, rep = 2, log_beta_wit_2 = 8, log_beta_wit_inf = 0\n",
      " \n",
      "Cost: communication =   0.10 KB, soundness error = 2^-Infinity\n",
      " \n"
     ]
    }
   ],
   "source": [
    "# Running pi_bdecomp reducing rel to rel_bdecomp\n",
    "rel_bdecomp, cost_bdecomp = rel.pi_bdecomp(ell=2)\n",
    "rel_bdecomp.show()\n",
    "cost_bdecomp.show()"
   ]
  },
  {
   "cell_type": "code",
   "execution_count": 4,
   "id": "233b33cb-9659-478b-8452-3f5e8966ac73",
   "metadata": {},
   "outputs": [
    {
     "name": "stdout",
     "output_type": "stream",
     "text": [
      "Relation:\n",
      "    H * F * W = Y\n",
      "Statement:\n",
      "    H: nout x (ntop + nbot)\n",
      "    F: (ntop + nbot) x wdim\n",
      "    Y: nout x rep\n",
      "Witness:\n",
      "    W: wdim x rep\n",
      "    ||sigma(W)||_2 <= 2^log_beta_wit_2\n",
      "    ||psi(W)||_inf <= 2^log_beta_wit_inf\n",
      "Parameters:\n",
      "    wdim = 30, rep = 2, log_beta_wit_2 = 0, log_beta_wit_inf = 0\n",
      " \n",
      "Cost: communication =   0.10 KB, soundness error = 2^-128\n",
      " \n"
     ]
    }
   ],
   "source": [
    "# Running pi_split reducing rel into rel_split\n",
    "rel_split, cost_split = rel.pi_split(2)\n",
    "rel_split.show()\n",
    "cost_split.show()"
   ]
  },
  {
   "cell_type": "code",
   "execution_count": 5,
   "id": "fe8542b8",
   "metadata": {},
   "outputs": [
    {
     "name": "stdout",
     "output_type": "stream",
     "text": [
      "Relation:\n",
      "    H * F * W = Y\n",
      "Statement:\n",
      "    H: nout x (ntop + nbot)\n",
      "    F: (ntop + nbot) x wdim\n",
      "    Y: nout x rep\n",
      "Witness:\n",
      "    W: wdim x rep\n",
      "    ||sigma(W)||_2 <= 2^log_beta_wit_2\n",
      "    ||psi(W)||_inf <= 2^log_beta_wit_inf\n",
      "Parameters:\n",
      "    wdim = 60, rep = 1, log_beta_wit_2 = 0, log_beta_wit_inf = 0\n",
      " \n",
      "Cost: communication =   0.00 KB, soundness error = 2^-128\n",
      " \n"
     ]
    }
   ],
   "source": [
    "# Running pi_batch reducing rel into rel_batch\n",
    "rel_batch, cost_batch = rel.pi_batch()\n",
    "rel_batch.show()\n",
    "cost_batch.show()"
   ]
  },
  {
   "cell_type": "code",
   "execution_count": 6,
   "id": "caffa153",
   "metadata": {},
   "outputs": [
    {
     "name": "stdout",
     "output_type": "stream",
     "text": [
      "Relation:\n",
      "    H * F * W = Y\n",
      "Statement:\n",
      "    H: nout x (ntop + nbot)\n",
      "    F: (ntop + nbot) x wdim\n",
      "    Y: nout x rep\n",
      "Witness:\n",
      "    W: wdim x rep\n",
      "    ||sigma(W)||_2 <= 2^log_beta_wit_2\n",
      "    ||psi(W)||_inf <= 2^log_beta_wit_inf\n",
      "Parameters:\n",
      "    wdim = 60, rep = 23, log_beta_wit_2 = 3, log_beta_wit_inf = 8\n",
      " \n",
      "Cost: communication =   0.00 KB, soundness error = 2^-83\n",
      " \n"
     ]
    }
   ],
   "source": [
    "# Running pi_fold reducing rel into rel_fold\n",
    "rel_fold, cost_fold = rel.pi_fold(23)\n",
    "rel_fold.show()\n",
    "cost_fold.show()"
   ]
  },
  {
   "cell_type": "code",
   "execution_count": 7,
   "id": "5ce252ac-081d-4200-b9d7-0c215066c894",
   "metadata": {},
   "outputs": [
    {
     "name": "stdout",
     "output_type": "stream",
     "text": [
      "Relation:\n",
      "    H * F * W = Y\n",
      "Statement:\n",
      "    H: nout x (ntop + nbot)\n",
      "    F: (ntop + nbot) x wdim\n",
      "    Y: nout x rep\n",
      "Witness:\n",
      "    W: wdim x rep\n",
      "    ||sigma(W)||_2 <= 2^log_beta_wit_2\n",
      "    ||psi(W)||_inf <= 2^log_beta_wit_inf\n",
      "Parameters:\n",
      "    wdim = 60, rep = 8, log_beta_wit_2 = 7, log_beta_wit_inf = 0\n",
      " \n",
      "Cost: communication =   5.60 KB, soundness error = 2^-122\n",
      " \n"
     ]
    }
   ],
   "source": [
    "# Running pi_norm reducing rel into rel_norm\n",
    "rel_norm, cost_norm = rel.pi_norm()\n",
    "rel_norm.show()\n",
    "cost_norm.show()\n"
   ]
  },
  {
   "cell_type": "code",
   "execution_count": null,
   "id": "b2b85e81",
   "metadata": {},
   "outputs": [
    {
     "name": "stdout",
     "output_type": "stream",
     "text": [
      "Execution Trace:\n",
      "init    : wdim =  32768, rep =  32, log_beta_wit_2 =  12, log_beta_wit_inf =   0\n",
      "norm    : wdim =  32768, rep =  44, log_beta_wit_2 =  13, log_beta_wit_inf =   0\n",
      "batch   : wdim =  32768, rep =  44, log_beta_wit_2 =  13, log_beta_wit_inf =   0\n",
      "split   : wdim =   8192, rep = 176, log_beta_wit_2 =  13, log_beta_wit_inf =   0\n",
      "fold    : wdim =   8192, rep =  32, log_beta_wit_2 =  23, log_beta_wit_inf =  16\n",
      "bdecomp : wdim =   8192, rep =  64, log_beta_wit_2 =  21, log_beta_wit_inf =   7\n",
      "norm    : wdim =   8192, rep =  68, log_beta_wit_2 =  21, log_beta_wit_inf =   7\n",
      "batch   : wdim =   8192, rep =  68, log_beta_wit_2 =  21, log_beta_wit_inf =   7\n",
      "split   : wdim =   2048, rep = 272, log_beta_wit_2 =  21, log_beta_wit_inf =   7\n",
      "fold    : wdim =   2048, rep =  32, log_beta_wit_2 =  32, log_beta_wit_inf =  23\n",
      "bdecomp : wdim =   2048, rep =  64, log_beta_wit_2 =  24, log_beta_wit_inf =  11\n",
      "norm    : wdim =   2048, rep =  68, log_beta_wit_2 =  24, log_beta_wit_inf =  11\n",
      "batch   : wdim =   2048, rep =  68, log_beta_wit_2 =  24, log_beta_wit_inf =  11\n",
      "split   : wdim =    512, rep = 272, log_beta_wit_2 =  24, log_beta_wit_inf =  11\n",
      "fold    : wdim =    512, rep =  32, log_beta_wit_2 =  35, log_beta_wit_inf =  27\n",
      "norm    : wdim =    512, rep =  35, log_beta_wit_2 =  35, log_beta_wit_inf =  27\n",
      "batch   : wdim =    512, rep =  35, log_beta_wit_2 =  35, log_beta_wit_inf =  27\n",
      "split   : wdim =    128, rep = 140, log_beta_wit_2 =  35, log_beta_wit_inf =  27\n",
      "fold    : wdim =    128, rep =  32, log_beta_wit_2 =  45, log_beta_wit_inf =  42\n",
      "bdecomp : wdim =    128, rep =  64, log_beta_wit_2 =  32, log_beta_wit_inf =  21\n",
      "norm    : wdim =    128, rep =  67, log_beta_wit_2 =  32, log_beta_wit_inf =  21\n",
      "batch   : wdim =    128, rep =  67, log_beta_wit_2 =  32, log_beta_wit_inf =  21\n",
      "split   : wdim =     32, rep = 268, log_beta_wit_2 =  32, log_beta_wit_inf =  21\n",
      "fold    : wdim =     32, rep =  32, log_beta_wit_2 =  42, log_beta_wit_inf =  36\n",
      "finish  : True\n",
      " \n",
      "Costs:\n",
      "norm    : communication =  78.00 KB, soundness error = 2^-112\n",
      "batch   : communication =   0.00 KB, soundness error = 2^-121\n",
      "split   : communication =  99.00 KB, soundness error = 2^-127\n",
      "fold    : communication =   0.00 KB, soundness error = 2^-108\n",
      "bdecomp : communication =   8.00 KB, soundness error = 2^-Infinity\n",
      "norm    : communication =  47.50 KB, soundness error = 2^-114\n",
      "batch   : communication =   0.00 KB, soundness error = 2^-120\n",
      "split   : communication = 153.00 KB, soundness error = 2^-127\n",
      "fold    : communication =   0.00 KB, soundness error = 2^-107\n",
      "bdecomp : communication =   8.00 KB, soundness error = 2^-Infinity\n",
      "norm    : communication =  49.00 KB, soundness error = 2^-116\n",
      "batch   : communication =   0.00 KB, soundness error = 2^-119\n",
      "split   : communication = 153.00 KB, soundness error = 2^-127\n",
      "fold    : communication =   0.00 KB, soundness error = 2^-107\n",
      "norm    : communication =  31.90 KB, soundness error = 2^-118\n",
      "batch   : communication =   0.00 KB, soundness error = 2^-120\n",
      "split   : communication =  78.80 KB, soundness error = 2^-127\n",
      "fold    : communication =   0.00 KB, soundness error = 2^-108\n",
      "bdecomp : communication =   8.00 KB, soundness error = 2^-Infinity\n",
      "norm    : communication =  45.00 KB, soundness error = 2^-120\n",
      "batch   : communication =   0.00 KB, soundness error = 2^-118\n",
      "split   : communication = 150.80 KB, soundness error = 2^-127\n",
      "fold    : communication =   0.00 KB, soundness error = 2^-107\n",
      "finish  : communication = 128.00 KB, soundness error = 2^-Infinity\n",
      "Cost: communication = 1037.90 KB, soundness error = 2^-105\n",
      " \n"
     ]
    }
   ],
   "source": [
    "ring_params = RingParam(f=60,log_betasis=32,log_q=64)\n",
    "\n",
    "rep = 2**5\n",
    "wdim = 2**15\n",
    "log_beta_wit_inf = 0\n",
    "log_beta_wit_2 = ceil(log(sqrt(wdim * ring_params.phi * ring_params.fhat) * 2**log_beta_wit_inf,2))\n",
    "\n",
    "rel = Relation(ring_params=ring_params,wdim=wdim,rep=rep,log_beta_wit_inf=log_beta_wit_inf,log_beta_wit_2=log_beta_wit_2)\n",
    "\n",
    "ell = 2\n",
    "d = 4\n",
    "\n",
    "opener = [(\"norm\", {}), (\"batch\", {}), (\"split\", {\"d\":d}), (\"fold\", {\"repout\":rep})]\n",
    "loop = [(\"bdecomp\", {\"ell\":ell}), (\"norm\", {}), (\"batch\", {}), (\"split\", {\"d\":d}), (\"fold\", {\"repout\":rep})]\n",
    "ops = opener + loop + loop + opener + loop + [(\"finish\", {})]\n",
    "\n",
    "trace, costs = simulate(rel, ops)\n",
    "\n",
    "print(f'Execution Trace:')\n",
    "for op, rel in trace:\n",
    "    rel.show(label=op,brief=True)\n",
    "print(f' ')\n",
    "    \n",
    "print(f'Costs:')\n",
    "for op, cost in costs:\n",
    "    cost.show(label=op,brief=True)\n",
    "print(f' ')\n",
    "    \n",
    "total_comm = sum([cost.comm for op, cost in costs])\n",
    "total_snd = sum([cost.snd for op, cost in costs])\n",
    "total_cost = Cost(comm=total_comm,snd=total_snd)\n",
    "total_cost.show()"
   ]
  },
  {
   "cell_type": "code",
   "execution_count": null,
   "id": "5120d857",
   "metadata": {},
   "outputs": [],
   "source": []
  }
 ],
 "metadata": {
  "kernelspec": {
   "display_name": "SageMath 10.5",
   "language": "sage",
   "name": "sagemath"
  },
  "language_info": {
   "codemirror_mode": {
    "name": "ipython",
    "version": 3
   },
   "file_extension": ".py",
   "mimetype": "text/x-python",
   "name": "python",
   "nbconvert_exporter": "python",
   "pygments_lexer": "ipython3",
   "version": "3.13.2"
  }
 },
 "nbformat": 4,
 "nbformat_minor": 5
}
