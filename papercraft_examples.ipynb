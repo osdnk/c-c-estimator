{
 "cells": [
  {
   "cell_type": "markdown",
   "metadata": {},
   "source": [
    "Below are parameters for the Papercraft verifiable delay function (VDF)."
   ]
  },
  {
   "cell_type": "code",
   "execution_count": 1,
   "metadata": {},
   "outputs": [],
   "source": [
    "from estimator.rok_estimator import *"
   ]
  },
  {
   "cell_type": "code",
   "execution_count": 2,
   "metadata": {},
   "outputs": [
    {
     "name": "stdout",
     "output_type": "stream",
     "text": [
      "Execution Trace:\n",
      " operation |   wdim   | rep | log_2-norm  (real | extr) | log_inf-norm  (real | extr) | wit size | communication  (growth | total) | soundness error  (growth | total) \n",
      "======================================================================================================================================================================\n",
      " init      |  1222144 |  57 |        ( 14 | 14 )        |         (  0 | 14 )         | 66.44 MB |      (0.0000 B | 0.0000 B)      |         (2^-oo  | 2^-oo )         \n",
      " norm      |  1222144 |  72 |        ( 14 | 14 )        |         (  0 | 14 )         | 83.92 MB |      (153.8 KB | 153.8 KB)      |         (2^-120 | 2^-120)         \n",
      " split     |   611072 | 144 |        ( 14 | 32 )        |         (  0 | 29 )         | 83.92 MB |      (732.4 KB | 886.2 KB)      |         (2^-124 | 2^-120)         \n",
      " fold      |   611072 |  57 |        ( 22 | 26 )        |         (  9 | 26 )         | 332.2 MB |      (732.4 KB | 886.2 KB)      |         (2^-83  | 2^-83 )         \n",
      " bdecomp   |   611072 | 171 |        ( 17 | 17 )        |         (  4 | 17 )         | 498.3 MB |      (1.065 MB | 1.930 MB)      |         (2^-oo  | 2^-83 )         \n",
      " norm      |   611072 | 178 |        ( 17 | 17 )        |         (  4 | 17 )         | 518.7 MB |      (99.30 KB | 2.027 MB)      |         (2^-121 | 2^-83 )         \n",
      " split     |   305536 | 356 |        ( 17 | 33 )        |         (  4 | 29 )         | 518.7 MB |      (1.863 MB | 3.890 MB)      |         (2^-124 | 2^-83 )         \n",
      " fold      |   305536 |  58 |        ( 25 | 25 )        |         ( 13 | 25 )         | 236.6 MB |      (1.863 MB | 3.890 MB)      |         (2^-83  | 2^-82 )         \n",
      " norm      |   305536 |  62 |        ( 26 | 25 )        |         ( 13 | 25 )         | 252.9 MB |      (50.25 KB | 3.939 MB)      |         (2^-122 | 2^-82 )         \n",
      " split     |   152768 | 124 |        ( 26 | 40 )        |         ( 13 | 37 )         | 252.9 MB |      (698.2 KB | 4.621 MB)      |         (2^-124 | 2^-82 )         \n",
      " fold      |   152768 |  57 |        ( 33 | 33 )        |         ( 21 | 33 )         | 182.7 MB |      (698.2 KB | 4.621 MB)      |         (2^-83  | 2^-81 )         \n",
      " bdecomp   |   152768 | 285 |        ( 16 | 16 )        |         (  4 | 16 )         | 207.6 MB |      (2.211 MB | 6.832 MB)      |         (2^-oo  | 2^-81 )         \n",
      " norm      |   152768 | 292 |        ( 16 | 16 )        |         (  4 | 16 )         | 212.7 MB |      (122.5 KB | 6.952 MB)      |         (2^-121 | 2^-81 )         \n",
      " split     |    76384 | 584 |        ( 16 | 33 )        |         (  4 | 29 )         | 212.7 MB |      (3.367 MB | 10.32 MB)      |         (2^-124 | 2^-81 )         \n",
      " fold      |    76384 |  59 |        ( 25 | 25 )        |         ( 14 | 25 )         | 64.47 MB |      (3.367 MB | 10.32 MB)      |         (2^-84  | 2^-81 )         \n",
      " norm      |    76384 |  63 |        ( 25 | 25 )        |         ( 14 | 25 )         | 68.84 MB |      (51.89 KB | 10.37 MB)      |         (2^-122 | 2^-81 )         \n",
      " split     |    38192 | 126 |        ( 25 | 43 )        |         ( 14 | 41 )         | 68.84 MB |      (778.1 KB | 11.13 MB)      |         (2^-124 | 2^-81 )         \n",
      " fold      |    38192 |  57 |        ( 32 | 37 )        |         ( 22 | 37 )         | 47.75 MB |      (778.1 KB | 11.13 MB)      |         (2^-83  | 2^-81 )         \n",
      " bdecomp   |    38192 | 342 |        ( 15 | 15 )        |         (  4 | 15 )         | 62.28 MB |      (2.865 MB | 13.99 MB)      |         (2^-oo  | 2^-81 )         \n",
      " norm      |    38192 | 348 |        ( 15 | 15 )        |         (  4 | 15 )         | 63.38 MB |      (125.0 KB | 14.12 MB)      |         (2^-121 | 2^-81 )         \n",
      " split     |    19096 | 696 |        ( 15 | 32 )        |         (  4 | 18 )         | 63.38 MB |      (4.383 MB | 18.50 MB)      |         (2^-124 | 2^-81 )         \n",
      " fold      |    19096 |  59 |        ( 24 | 24 )        |         ( 14 | 14 )         | 16.12 MB |      (4.383 MB | 18.50 MB)      |         (2^-84  | 2^-80 )         \n",
      " finish    |          |     |                           |                             |          |      (16.12 MB | 34.62 MB)      |         (2^-oo  | 2^-80 )         \n",
      " \n",
      "Total Cost: communication = 34.62 MB, soundness error = 2^-80\n",
      "Maximum log ell_2-norm (real | extr) = ( 33 | 43 ), log SIS norm bound = 44\n",
      "Extraction failure for pi_norm: The norm of the square of the extracted witness is 2^69 overflowing modulo q.\n",
      "Extraction failure for pi_norm: The norm of the square of the extracted witness is 2^71 overflowing modulo q.\n",
      " \n",
      "VDF rounds T = 80256\n"
     ]
    }
   ],
   "source": [
    "mode = \"C.L\"\n",
    "\n",
    "secpar = 128\n",
    "kappa = 80\n",
    "log_q = 62\n",
    "rep = 57\n",
    "t = 64 * 22\n",
    "T = t * rep\n",
    "n_vdf = 14 # Candidate module rank for VDF. Try bigger ones if the code complains. It should only depend on the conductor f of the cyclotomic ring and log_q. \n",
    "\n",
    "outer_ring_params = {\n",
    "    \"f\": 24,\n",
    "    \"log_beta_sis_2\": 44,\n",
    "    \"log_q\": log_q,\n",
    "    \"secpar_target\": secpar,\n",
    "    \"kappa_target\": kappa\n",
    "}\n",
    "outer_ring = RingParam(**outer_ring_params)\n",
    "inner_log_beta_sis_2 = bound_log_canon_2_from_log_coeff_inf(outer_ring, 0, dim=n_vdf * log_q)\n",
    "inner_ring_params = {\n",
    "    \"f\": 12,\n",
    "    \"log_beta_sis_2\": inner_log_beta_sis_2 + 1,\n",
    "    \"log_q\": 62,\n",
    "}\n",
    "inner_ring = RingParam(**inner_ring_params) # We actually care about a sub-ring of outer_ring of degree 12, but not another cyclotomic ring. Here we are only abusing the function to compute the SIS module rank. \n",
    "assert n_vdf >= inner_ring.n_sis\n",
    "\n",
    "rel_params = {\n",
    "    \"wdim\": t * n_vdf * log_q,\n",
    "    \"rep\": rep,\n",
    "    \"n_rel\" : 2,\n",
    "    \"log_beta_wit_inf\": 0,\n",
    "}\n",
    "\n",
    "ops_params = {\n",
    "    \"base\": 21,\n",
    "    \"d\": 2,\n",
    "}\n",
    "\n",
    "small_loop = [\n",
    "    (\"norm\", {}), \n",
    "    # (\"batch\", {}), \n",
    "    (\"split\", {\"d\": ops_params[\"d\"]}), \n",
    "    (\"fold\", {})\n",
    "]\n",
    "\n",
    "big_loop = [\n",
    "    (\"bdecomp\", {\"base\": ops_params[\"base\"]}), \n",
    "    (\"norm\", {}), \n",
    "    # (\"batch\", {}), \n",
    "    (\"split\", {\"d\": ops_params[\"d\"]}), \n",
    "    (\"fold\", {})\n",
    "]\n",
    "\n",
    "# ops = 9 * loop + [(\"finish\", {})]\n",
    "ops = small_loop + big_loop + small_loop + big_loop + small_loop +  big_loop + [(\"finish\", {})]\n",
    "\n",
    "sim = Simulation(outer_ring_params, rel_params)\n",
    "sim.execute(ops)\n",
    "sim.extract()\n",
    "sim.show()\n",
    "\n",
    "print(f'VDF rounds T = {T}')\n"
   ]
  },
  {
   "cell_type": "code",
   "execution_count": null,
   "metadata": {},
   "outputs": [],
   "source": []
  }
 ],
 "metadata": {
  "kernelspec": {
   "display_name": "SageMath 10.5",
   "language": "sage",
   "name": "sagemath"
  },
  "language_info": {
   "codemirror_mode": {
    "name": "ipython",
    "version": 3
   },
   "file_extension": ".py",
   "mimetype": "text/x-python",
   "name": "python",
   "nbconvert_exporter": "python",
   "pygments_lexer": "ipython3",
   "version": "3.13.2"
  }
 },
 "nbformat": 4,
 "nbformat_minor": 4
}
