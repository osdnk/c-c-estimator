{
 "cells": [
  {
   "cell_type": "markdown",
   "metadata": {},
   "source": [
    "Below are parameters for the Papercraft verifiable delay function (VDF)."
   ]
  },
  {
   "cell_type": "code",
   "execution_count": 1,
   "metadata": {},
   "outputs": [],
   "source": [
    "from estimator.rok_estimator import *"
   ]
  },
  {
   "cell_type": "code",
   "execution_count": 2,
   "metadata": {},
   "outputs": [
    {
     "ename": "NameError",
     "evalue": "name 'max_prime_power_divisor' is not defined",
     "output_type": "error",
     "traceback": [
      "\u001b[31m---------------------------------------------------------------------------\u001b[39m",
      "\u001b[31mNameError\u001b[39m                                 Traceback (most recent call last)",
      "\u001b[36mCell\u001b[39m\u001b[36m \u001b[39m\u001b[32mIn[2]\u001b[39m\u001b[32m, line 25\u001b[39m\n\u001b[32m     19\u001b[39m inner_log_beta_sis_2 = bound_log_canon_2_from_log_coeff_inf(outer_ring, Integer(\u001b[32m0\u001b[39m), dim=n_vdf * log_q)\n\u001b[32m     20\u001b[39m inner_ring_params = {\n\u001b[32m     21\u001b[39m     \u001b[33m\"\u001b[39m\u001b[33mf\u001b[39m\u001b[33m\"\u001b[39m: Integer(\u001b[32m12\u001b[39m),\n\u001b[32m     22\u001b[39m     \u001b[33m\"\u001b[39m\u001b[33mlog_beta_sis_2\u001b[39m\u001b[33m\"\u001b[39m: inner_log_beta_sis_2 + Integer(\u001b[32m1\u001b[39m),\n\u001b[32m     23\u001b[39m     \u001b[33m\"\u001b[39m\u001b[33mlog_q\u001b[39m\u001b[33m\"\u001b[39m: Integer(\u001b[32m62\u001b[39m),\n\u001b[32m     24\u001b[39m }\n\u001b[32m---> \u001b[39m\u001b[32m25\u001b[39m inner_ring = \u001b[43mRingParam\u001b[49m\u001b[43m(\u001b[49m\u001b[43m*\u001b[49m\u001b[43m*\u001b[49m\u001b[43minner_ring_params\u001b[49m\u001b[43m)\u001b[49m \u001b[38;5;66;03m# We actually care about a sub-ring of outer_ring of degree 12, but not another cyclotomic ring. Here we are only abusing the function to compute the SIS module rank. \u001b[39;00m\n\u001b[32m     26\u001b[39m \u001b[38;5;28;01massert\u001b[39;00m n_vdf >= inner_ring.n_sis\n\u001b[32m     28\u001b[39m rel_params = {\n\u001b[32m     29\u001b[39m     \u001b[33m\"\u001b[39m\u001b[33mwdim\u001b[39m\u001b[33m\"\u001b[39m: t * n_vdf * log_q,\n\u001b[32m     30\u001b[39m     \u001b[33m\"\u001b[39m\u001b[33mrep\u001b[39m\u001b[33m\"\u001b[39m: rep,\n\u001b[32m     31\u001b[39m     \u001b[33m\"\u001b[39m\u001b[33mn_rel\u001b[39m\u001b[33m\"\u001b[39m : Integer(\u001b[32m2\u001b[39m),\n\u001b[32m     32\u001b[39m     \u001b[33m\"\u001b[39m\u001b[33mlog_beta_wit_inf\u001b[39m\u001b[33m\"\u001b[39m: Integer(\u001b[32m0\u001b[39m),\n\u001b[32m     33\u001b[39m }\n",
      "\u001b[36mFile \u001b[39m\u001b[32m<string>:15\u001b[39m, in \u001b[36m__init__\u001b[39m\u001b[34m(self, f, fhat, log_beta_sis_2, log_beta_sis_inf, log_q, residue_deg, C, n_sis, secpar_target, secpar_result, kappa_target, kappa_result, kappa_hedge)\u001b[39m\n",
      "\u001b[36mFile \u001b[39m\u001b[32m~/Nextcloud/Academic/Papers/rok-paper-sissors-estimator/estimator/rok_estimator.py:162\u001b[39m, in \u001b[36mRingParam.__post_init__\u001b[39m\u001b[34m(self, C)\u001b[39m\n\u001b[32m    160\u001b[39m \u001b[38;5;28mself\u001b[39m.ring_exp_inf = euler_phi(\u001b[38;5;28mself\u001b[39m.f)\n\u001b[32m    161\u001b[39m \u001b[38;5;28;01mif\u001b[39;00m \u001b[38;5;28mself\u001b[39m.C == \u001b[38;5;28;01mNone\u001b[39;00m:\n\u001b[32m--> \u001b[39m\u001b[32m162\u001b[39m     \u001b[38;5;28mself\u001b[39m.C = \u001b[43mSubtractiveSet\u001b[49m\u001b[43m.\u001b[49m\u001b[43mgen_klno24_cyclotomic\u001b[49m\u001b[43m(\u001b[49m\u001b[38;5;28;43mself\u001b[39;49m\u001b[43m.\u001b[49m\u001b[43mf\u001b[49m\u001b[43m)\u001b[49m       \u001b[38;5;66;03m# Use the subtractive set construction for cyclotomic fields reported in KLNO24\u001b[39;00m\n\u001b[32m    163\u001b[39m \u001b[38;5;28;01mif\u001b[39;00m \u001b[38;5;28mself\u001b[39m.residue_deg == \u001b[38;5;28;01mNone\u001b[39;00m:\n\u001b[32m    164\u001b[39m     \u001b[38;5;28mself\u001b[39m.residue_deg = ceil((\u001b[38;5;28mself\u001b[39m.kappa_target + \u001b[38;5;28mself\u001b[39m.kappa_hedge)/\u001b[38;5;28mself\u001b[39m.log_q)       \u001b[38;5;66;03m# Aim for kappa_target bits of soundness for Schwartz-Zippel. Adding kappa_hedge bits to hedge against running the RoKs 2**kappa_hedge times\u001b[39;00m\n",
      "\u001b[36mFile \u001b[39m\u001b[32m~/Nextcloud/Academic/Papers/rok-paper-sissors-estimator/estimator/rok_estimator.py:117\u001b[39m, in \u001b[36mSubtractiveSet.gen_klno24_cyclotomic\u001b[39m\u001b[34m(f)\u001b[39m\n\u001b[32m    115\u001b[39m \u001b[38;5;28;01melse\u001b[39;00m:\n\u001b[32m    116\u001b[39m     phi = euler_phi(f)\n\u001b[32m--> \u001b[39m\u001b[32m117\u001b[39m     fmax = \u001b[43mmax_prime_power_divisor\u001b[49m(f) \n\u001b[32m    118\u001b[39m     c_rad = (\u001b[32m4\u001b[39m/pi)**\u001b[38;5;28mlen\u001b[39m(f.prime_divisors())\n\u001b[32m    119\u001b[39m     \u001b[38;5;28;01mreturn\u001b[39;00m SubtractiveSet(cardinality = f/fmax, gamma_2 = \u001b[32m1\u001b[39m, theta_2 = f/(\u001b[32m4\u001b[39m*sqrt(\u001b[32m2\u001b[39m)), gamma_inf = c_rad * phi, theta_inf = c_rad * phi)\n",
      "\u001b[31mNameError\u001b[39m: name 'max_prime_power_divisor' is not defined"
     ]
    }
   ],
   "source": [
    "mode = \"C.L\"\n",
    "\n",
    "secpar = 128\n",
    "kappa = 80\n",
    "log_q = 62\n",
    "rep = 57\n",
    "t = 64 * 22\n",
    "T = t * rep\n",
    "n_vdf = 14 # Candidate module rank for VDF. Try bigger ones if the code complains. It should only depend on the conductor f of the cyclotomic ring and log_q. \n",
    "\n",
    "outer_ring_params = {\n",
    "    \"f\": 24,\n",
    "    \"log_beta_sis_2\": 44,\n",
    "    \"log_q\": log_q,\n",
    "    \"secpar_target\": secpar,\n",
    "    \"kappa_target\": kappa\n",
    "}\n",
    "outer_ring = RingParam(**outer_ring_params)\n",
    "inner_log_beta_sis_2 = bound_log_canon_2_from_log_coeff_inf(outer_ring, 0, dim=n_vdf * log_q)\n",
    "inner_ring_params = {\n",
    "    \"f\": 12,\n",
    "    \"log_beta_sis_2\": inner_log_beta_sis_2 + 1,\n",
    "    \"log_q\": 62,\n",
    "}\n",
    "inner_ring = RingParam(**inner_ring_params) # We actually care about a sub-ring of outer_ring of degree 12, but not another cyclotomic ring. Here we are only abusing the function to compute the SIS module rank. \n",
    "assert n_vdf >= inner_ring.n_sis\n",
    "\n",
    "rel_params = {\n",
    "    \"wdim\": t * n_vdf * log_q,\n",
    "    \"rep\": rep,\n",
    "    \"n_rel\" : 2,\n",
    "    \"log_beta_wit_inf\": 0,\n",
    "}\n",
    "\n",
    "ops_params = {\n",
    "    \"base\": 21,\n",
    "    \"d\": 2,\n",
    "}\n",
    "\n",
    "small_loop = [\n",
    "    (\"norm\", {}), \n",
    "    # (\"batch\", {}), \n",
    "    (\"split\", {\"d\": ops_params[\"d\"]}), \n",
    "    (\"fold\", {})\n",
    "]\n",
    "\n",
    "big_loop = [\n",
    "    (\"bdecomp\", {\"base\": ops_params[\"base\"]}), \n",
    "    (\"norm\", {}), \n",
    "    # (\"batch\", {}), \n",
    "    (\"split\", {\"d\": ops_params[\"d\"]}), \n",
    "    (\"fold\", {})\n",
    "]\n",
    "\n",
    "# ops = 9 * loop + [(\"finish\", {})]\n",
    "ops = small_loop + big_loop + small_loop + big_loop + small_loop +  big_loop + [(\"finish\", {})]\n",
    "\n",
    "sim = Simulation(outer_ring_params, rel_params)\n",
    "sim.execute(ops)\n",
    "sim.extract()\n",
    "sim.show(brief=False)\n",
    "\n",
    "print(f'VDF rounds T = {T}')\n"
   ]
  },
  {
   "cell_type": "code",
   "execution_count": null,
   "metadata": {},
   "outputs": [],
   "source": []
  }
 ],
 "metadata": {
  "kernelspec": {
   "display_name": "SageMath 10.5",
   "language": "sage",
   "name": "sagemath"
  },
  "language_info": {
   "codemirror_mode": {
    "name": "ipython",
    "version": 3
   },
   "file_extension": ".py",
   "mimetype": "text/x-python",
   "name": "python",
   "nbconvert_exporter": "python",
   "pygments_lexer": "ipython3",
   "version": "3.13.2"
  }
 },
 "nbformat": 4,
 "nbformat_minor": 4
}
