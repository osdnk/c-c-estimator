{
 "cells": [
  {
   "cell_type": "markdown",
   "metadata": {},
   "source": [
    "This file is only for local testing. It will not be pushed."
   ]
  },
  {
   "cell_type": "code",
   "execution_count": 2,
   "metadata": {},
   "outputs": [],
   "source": [
    "from rok_estimator import *\n",
    "from lattice_lib import *\n",
    "from lattice_lib.util import *"
   ]
  },
  {
   "cell_type": "code",
   "execution_count": 59,
   "metadata": {},
   "outputs": [
    {
     "name": "stdout",
     "output_type": "stream",
     "text": [
      "Ring parameters:\n",
      "    conductor f: 60, degree phi: 16, modulus q: 2^64, beta_sis_2: 2^36\n",
      "    SIS module rank n_sis: 50, target SIS security: 128, resulting SIS security: 129\n",
      "    residue degree: 2, target Schwartz-Zippel security: 80, resulting Schwartz-Zippel security: 128\n",
      "    |R_q| = 128.0 B, |R_q^(n_sis)| = 6.250 KB\n",
      " \n",
      "Subtractive set parameters:\n",
      "    cardinality: 12\n",
      "    forward ell_2 expansion factor gamma_2: 2^0\n",
      "    inverse ell_2 expansion factor theta_2: 2^4\n",
      "    forward ell_inf expansion factor gamma_inf: 2^2\n",
      "    inverse ell_inf expansion factor theta_inf: 2^5\n",
      " \n",
      "Relation: wdim =  2686976, rep =  25, log_2-norm (real | extr) = ( 16 | 16 ), log_inf-norm (real | extr) = (  0 | 16 ), wit size = 128.1 MB\n",
      "Total Cost: communication = 10.50 MB, soundness error = 2^-79\n",
      "Maximum log ell_2-norm (real | extr) = ( 25 | 35 ), log SIS norm bound = 36\n",
      " \n"
     ]
    }
   ],
   "source": [
    "ring_params = {\n",
    "    \"f\": 60,\n",
    "    \"log_beta_sis_2\": 36,\n",
    "    \"log_q\": 64,\n",
    "}\n",
    "\n",
    "rel_params = {\n",
    "    \"wdim\": 2**16 * 41,\n",
    "    \"rep\": 25,\n",
    "    \"log_beta_wit_inf\": 0,\n",
    "}\n",
    "\n",
    "ops_params = {\n",
    "    \"ell\": 3,\n",
    "    # \"base\": 21,\n",
    "    \"d\": 2,\n",
    "}\n",
    "\n",
    "opener = [\n",
    "    (\"norm\", {}), \n",
    "    (\"batch\", {}), \n",
    "    (\"split\", {\"d\": ops_params[\"d\"]}), \n",
    "    (\"fold\", {})\n",
    "]\n",
    "loop = [\n",
    "    (\"bdecomp\", {\"ell\": ops_params[\"ell\"]}), \n",
    "    (\"norm\", {}), \n",
    "    (\"batch\", {}), \n",
    "    (\"split\", {\"d\": ops_params[\"d\"]}), \n",
    "    (\"fold\", {})\n",
    "]\n",
    "ops = opener + 10 * loop + [(\"finish\", {})]\n",
    "\n",
    "sim = Simulation(ring_params, rel_params)\n",
    "sim.execute(ops)\n",
    "sim.extract()\n",
    "sim.show(brief=True)"
   ]
  },
  {
   "cell_type": "code",
   "execution_count": 85,
   "metadata": {},
   "outputs": [
    {
     "name": "stdout",
     "output_type": "stream",
     "text": [
      "Ring parameters:\n",
      "    conductor f: 60, degree phi: 16, modulus q: 2^64, beta_sis_2: 2^37\n",
      "    SIS module rank n_sis: 53, target SIS security: 128, resulting SIS security: 129\n",
      "    residue degree: 2, target Schwartz-Zippel security: 80, resulting Schwartz-Zippel security: 128\n",
      "    |R_q| = 128.0 B, |R_q^(n_sis)| = 6.625 KB\n",
      " \n",
      "Subtractive set parameters:\n",
      "    cardinality: 12\n",
      "    forward ell_2 expansion factor gamma_2: 2^0\n",
      "    inverse ell_2 expansion factor theta_2: 2^4\n",
      "    forward ell_inf expansion factor gamma_inf: 2^2\n",
      "    inverse ell_inf expansion factor theta_inf: 2^5\n",
      " \n",
      "Relation: wdim =  2686976, rep =  25, log_2-norm (real | extr) = ( 26 | 26 ), log_inf-norm (real | extr) = ( 10 | 26 ), wit size = 1409. MB\n",
      "Total Cost: communication = 11.58 MB, soundness error = 2^-79\n",
      "Maximum log ell_2-norm (real | extr) = ( 26 | 36 ), log SIS norm bound = 37\n",
      " \n"
     ]
    }
   ],
   "source": [
    "ring_params = {\n",
    "    \"f\": 60,\n",
    "    \"log_beta_sis_2\": 37,\n",
    "    \"log_q\": 64,\n",
    "}\n",
    "\n",
    "rel_params = {\n",
    "    \"wdim\": 2**16 * 41,\n",
    "    \"rep\": 25,\n",
    "    \"log_beta_wit_inf\": 10,\n",
    "}\n",
    "\n",
    "ops_params = {\n",
    "    \"ell\": 3,\n",
    "    # \"base\": 21,\n",
    "    \"d\": 2,\n",
    "}\n",
    "\n",
    "loop = [\n",
    "    (\"bdecomp\", {\"ell\": ops_params[\"ell\"]}), \n",
    "    (\"norm\", {}), \n",
    "    (\"batch\", {}), \n",
    "    (\"split\", {\"d\": ops_params[\"d\"]}), \n",
    "    (\"fold\", {})\n",
    "]\n",
    "ops = 10 * loop + [(\"finish\", {})]\n",
    "\n",
    "sim = Simulation(ring_params, rel_params)\n",
    "sim.execute(ops)\n",
    "sim.extract()\n",
    "sim.show(brief=True)"
   ]
  },
  {
   "cell_type": "code",
   "execution_count": 92,
   "metadata": {},
   "outputs": [
    {
     "name": "stdout",
     "output_type": "stream",
     "text": [
      "Ring parameters:\n",
      "    conductor f: 60, degree phi: 16, modulus q: 2^64, beta_sis_2: 2^37\n",
      "    SIS module rank n_sis: 53, target SIS security: 128, resulting SIS security: 129\n",
      "    residue degree: 2, target Schwartz-Zippel security: 80, resulting Schwartz-Zippel security: 128\n",
      "    |R_q| = 128.0 B, |R_q^(n_sis)| = 6.625 KB\n",
      " \n",
      "Subtractive set parameters:\n",
      "    cardinality: 12\n",
      "    forward ell_2 expansion factor gamma_2: 2^0\n",
      "    inverse ell_2 expansion factor theta_2: 2^4\n",
      "    forward ell_inf expansion factor gamma_inf: 2^2\n",
      "    inverse ell_inf expansion factor theta_inf: 2^5\n",
      " \n",
      "Relation: wdim = 10747904, rep =  25, log_2-norm (real | extr) = ( 27 | 27 ), log_inf-norm (real | extr) = ( 10 | 27 ), wit size = 5638. MB\n",
      "Total Cost: communication = 17.87 MB, soundness error = 2^-79\n",
      "Maximum log ell_2-norm (real | extr) = ( 27 | 36 ), log SIS norm bound = 37\n",
      " \n"
     ]
    }
   ],
   "source": [
    "ring_params = {\n",
    "    \"f\": 60,\n",
    "    \"log_beta_sis_2\": 37,\n",
    "    \"log_q\": 64,\n",
    "}\n",
    "\n",
    "rel_params = {\n",
    "    \"wdim\": 2**18 * 41,\n",
    "    \"rep\": 25,\n",
    "    \"log_beta_wit_inf\": 10,\n",
    "}\n",
    "\n",
    "ops_params = {\n",
    "    \"ell\": 4,\n",
    "    # \"base\": 21,\n",
    "    \"d\": 2,\n",
    "}\n",
    "\n",
    "opener = [\n",
    "    (\"norm\", {}), \n",
    "    (\"batch\", {}), \n",
    "    (\"split\", {\"d\": ops_params[\"d\"]}), \n",
    "    (\"fold\", {})\n",
    "]\n",
    "loop = [\n",
    "    (\"bdecomp\", {\"ell\": ops_params[\"ell\"]}), \n",
    "    (\"norm\", {}), \n",
    "    (\"batch\", {}), \n",
    "    (\"split\", {\"d\": ops_params[\"d\"]}), \n",
    "    (\"fold\", {})\n",
    "]\n",
    "ops = 12 * loop + [(\"finish\", {})]\n",
    "\n",
    "sim = Simulation(ring_params, rel_params)\n",
    "sim.execute(ops)\n",
    "sim.extract()\n",
    "sim.show(brief=True)"
   ]
  }
 ],
 "metadata": {
  "kernelspec": {
   "display_name": "SageMath 10.5",
   "language": "sage",
   "name": "sagemath"
  },
  "language_info": {
   "codemirror_mode": {
    "name": "ipython",
    "version": 3
   },
   "file_extension": ".py",
   "mimetype": "text/x-python",
   "name": "python",
   "nbconvert_exporter": "python",
   "pygments_lexer": "ipython3",
   "version": "3.13.2"
  }
 },
 "nbformat": 4,
 "nbformat_minor": 2
}
